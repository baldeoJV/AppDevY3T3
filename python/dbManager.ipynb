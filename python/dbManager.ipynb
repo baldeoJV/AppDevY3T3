{
 "cells": [
  {
   "cell_type": "code",
   "execution_count": 1,
   "id": "dd968b5e",
   "metadata": {},
   "outputs": [],
   "source": [
    "import requests\n",
    "from PIL import Image\n",
    "import json\n",
    "import sqlite3\n",
    "import pandas as pd\n",
    "from io import BytesIO\n",
    "\n"
   ]
  },
  {
   "cell_type": "code",
   "execution_count": 2,
   "id": "66b3dd8c",
   "metadata": {},
   "outputs": [],
   "source": [
    "df = pd.read_json(\"./breed_list.json\")"
   ]
  },
  {
   "cell_type": "code",
   "execution_count": 3,
   "id": "ce91cdf6",
   "metadata": {},
   "outputs": [],
   "source": [
    "\n",
    "df['imperial_weight'] = df['weight'].apply(lambda x: x['imperial'])\n",
    "df['metric_weight'] = df['weight'].apply(lambda x: x['metric'])\n",
    "df['imperial_height'] = df['height'].apply(lambda x: x['imperial'])\n",
    "df['metric_height'] = df['height'].apply(lambda x: x['metric'])"
   ]
  },
  {
   "cell_type": "code",
   "execution_count": 4,
   "id": "a965b641",
   "metadata": {},
   "outputs": [],
   "source": [
    "df['image_id'] = df['image'].apply(lambda x: x['id'])\n",
    "df['image_url'] = df['image'].apply(lambda x: x['url'])\n",
    "df['image_width'] = df['image'].apply(lambda x: x['width'])\n",
    "df['image_height'] = df['image'].apply(lambda x: x['height'])"
   ]
  },
  {
   "cell_type": "code",
   "execution_count": 5,
   "id": "d3d37c73",
   "metadata": {},
   "outputs": [],
   "source": [
    "df.drop(columns=['weight', 'height', 'origin', 'country_code', 'description', 'history', 'image' ], inplace=True)"
   ]
  },
  {
   "cell_type": "code",
   "execution_count": 6,
   "id": "fed014ac",
   "metadata": {},
   "outputs": [],
   "source": [
    "# def image_converter(x):\n",
    "#     print(1)\n",
    "#     res = requests.get(x)\n",
    "#     return res.content\n",
    "\n",
    "# df['image_blob'] = df['image_url'].apply(image_converter)"
   ]
  },
  {
   "cell_type": "code",
   "execution_count": null,
   "id": "709d07ec",
   "metadata": {},
   "outputs": [
    {
     "data": {
      "text/plain": [
       "172"
      ]
     },
     "execution_count": 7,
     "metadata": {},
     "output_type": "execute_result"
    }
   ],
   "source": [
    "df.to_sql('breeds', con=sqlite3.connect('dog_breeds_no_image.db'), if_exists='replace', index=False)\n"
   ]
  }
 ],
 "metadata": {
  "kernelspec": {
   "display_name": "mainenv",
   "language": "python",
   "name": "python3"
  },
  "language_info": {
   "codemirror_mode": {
    "name": "ipython",
    "version": 3
   },
   "file_extension": ".py",
   "mimetype": "text/x-python",
   "name": "python",
   "nbconvert_exporter": "python",
   "pygments_lexer": "ipython3",
   "version": "3.12.9"
  }
 },
 "nbformat": 4,
 "nbformat_minor": 5
}
